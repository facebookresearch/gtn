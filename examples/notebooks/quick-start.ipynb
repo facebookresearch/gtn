{
  "nbformat": 4,
  "nbformat_minor": 0,
  "metadata": {
    "colab": {
      "name": "GTNQuickStart.ipynb",
      "provenance": [],
      "collapsed_sections": []
    },
    "kernelspec": {
      "name": "python3",
      "display_name": "Python 3"
    }
  },
  "cells": [
    {
      "cell_type": "markdown",
      "metadata": {
        "id": "r1_GGherUNaL"
      },
      "source": [
        "# GTN quickstart for beginners \n",
        "\n",
        "GTN is a framework for automatic differentiation with weighted finite-state transducers. The following is a minimal example of building two WFSAs with GTN, constructing a simple function on the graphs, and computing gradients using the python interface.\n",
        "\n",
        "#### More Resources\n",
        "\n",
        "Gitbub - https://github.com/facebookresearch/gtn\n",
        "\n",
        "Documentation - https://gtn.readthedocs.io/en/latest/\n",
        "\n",
        "Paper - https://arxiv.org/abs/2010.01003"
      ]
    },
    {
      "cell_type": "markdown",
      "metadata": {
        "id": "zRe7pypCKT-x"
      },
      "source": [
        "Install GTN \n"
      ]
    },
    {
      "cell_type": "code",
      "metadata": {
        "id": "-5Ah3KYYJ8Sb",
        "outputId": "5e792497-254f-4b9f-8def-4166a48f000e",
        "colab": {
          "base_uri": "https://localhost:8080/",
          "height": 187
        }
      },
      "source": [
        "!pip install gtn"
      ],
      "execution_count": null,
      "outputs": [
        {
          "output_type": "stream",
          "text": [
            "Collecting gtn\n",
            "\u001b[?25l  Downloading https://files.pythonhosted.org/packages/82/b2/08fe7f2684d39eb6abec0d15aa7f8d495761ff3d44508d6e59ecc001b295/gtn-0.0.0.tar.gz (45kB)\n",
            "\r\u001b[K     |███████▏                        | 10kB 11.4MB/s eta 0:00:01\r\u001b[K     |██████████████▎                 | 20kB 1.6MB/s eta 0:00:01\r\u001b[K     |█████████████████████▍          | 30kB 2.1MB/s eta 0:00:01\r\u001b[K     |████████████████████████████▋   | 40kB 2.3MB/s eta 0:00:01\r\u001b[K     |████████████████████████████████| 51kB 1.4MB/s \n",
            "\u001b[?25hBuilding wheels for collected packages: gtn\n",
            "  Building wheel for gtn (setup.py) ... \u001b[?25l\u001b[?25hdone\n",
            "  Created wheel for gtn: filename=gtn-0.0.0-cp36-cp36m-linux_x86_64.whl size=554005 sha256=86dbeaf9ee01d2c8a86a0351cc968e12fdd4b4f263804fce89ef481a7740cae2\n",
            "  Stored in directory: /root/.cache/pip/wheels/52/4e/42/1cab375512e74e8fd09da8a78800f250376941bfc63c6b4525\n",
            "Successfully built gtn\n",
            "Installing collected packages: gtn\n",
            "Successfully installed gtn-0.0.0\n"
          ],
          "name": "stdout"
        }
      ]
    },
    {
      "cell_type": "markdown",
      "metadata": {
        "id": "9f0_dtVuRjYp"
      },
      "source": [
        "Importing required libraries"
      ]
    },
    {
      "cell_type": "code",
      "metadata": {
        "id": "NJbiYVp3KZsA"
      },
      "source": [
        "import gtn\n",
        "from IPython.display import display, Image"
      ],
      "execution_count": null,
      "outputs": []
    },
    {
      "cell_type": "markdown",
      "metadata": {
        "id": "VOS-JkrfRpSu"
      },
      "source": [
        "Create simple graphs"
      ]
    },
    {
      "cell_type": "code",
      "metadata": {
        "id": "7q4h4EBqRiRT",
        "outputId": "a183bd45-a71d-4da1-aef3-6d6985edc7e3",
        "colab": {
          "base_uri": "https://localhost:8080/",
          "height": 34
        }
      },
      "source": [
        "# Make some graphs:\n",
        "g1 = gtn.Graph()\n",
        "g1.add_node(True)  # Add a start node\n",
        "g1.add_node()  # Add an internal node\n",
        "g1.add_node(False, True)  # Add an accepting node\n",
        "\n",
        "\n",
        "# Add arcs with (src node, dst node, label):\n",
        "g1.add_arc(0, 1, 1)\n",
        "g1.add_arc(0, 1, 2)\n",
        "g1.add_arc(1, 2, 1)\n",
        "g1.add_arc(1, 2, 0)\n",
        "\n",
        "\n",
        "g2 = gtn.Graph()\n",
        "g2.add_node(True, True)\n",
        "g2.add_arc(0, 0, 1)\n",
        "g2.add_arc(0, 0, 0)"
      ],
      "execution_count": null,
      "outputs": [
        {
          "output_type": "execute_result",
          "data": {
            "text/plain": [
              "1"
            ]
          },
          "metadata": {
            "tags": []
          },
          "execution_count": 51
        }
      ]
    },
    {
      "cell_type": "markdown",
      "metadata": {
        "id": "SVcuHzbWTUJt"
      },
      "source": [
        "Visualize the graphs"
      ]
    },
    {
      "cell_type": "code",
      "metadata": {
        "id": "fU2bwybKRwsA",
        "outputId": "4eb8642b-2d1f-432e-e1db-b8b126211e48",
        "colab": {
          "base_uri": "https://localhost:8080/",
          "height": 243
        }
      },
      "source": [
        "gtn.draw(g1, \"g1.png\")\n",
        "gtn.draw(g2, \"g2.png\")\n",
        "display(Image(\"g1.png\"), Image(\"g2.png\"))"
      ],
      "execution_count": null,
      "outputs": [
        {
          "output_type": "display_data",
          "data": {
            "image/png": "[encoded data removed]",
            "text/plain": [
              "<IPython.core.display.Image object>"
            ]
          },
          "metadata": {
            "tags": []
          }
        },
        {
          "output_type": "display_data",
          "data": {
            "image/png": "[encoded data removed]",
            "text/plain": [
              "<IPython.core.display.Image object>"
            ]
          },
          "metadata": {
            "tags": []
          }
        }
      ]
    },
    {
      "cell_type": "markdown",
      "metadata": {
        "id": "5Ec1d3qDT_gy"
      },
      "source": [
        "Functions on Graphs"
      ]
    },
    {
      "cell_type": "code",
      "metadata": {
        "id": "STZt2N_xTuqZ",
        "outputId": "8d79cd9f-11b1-4b99-e897-24b178d1ee5f",
        "colab": {
          "base_uri": "https://localhost:8080/",
          "height": 86
        }
      },
      "source": [
        "intersect = gtn.intersect(g1, g2)\n",
        "gtn.draw(intersect, \"intersect.png\")\n",
        "Image(\"intersect.png\")"
      ],
      "execution_count": null,
      "outputs": [
        {
          "output_type": "execute_result",
          "data": {
            "image/png": "[encoded data removed]",
            "text/plain": [
              "<IPython.core.display.Image object>"
            ]
          },
          "metadata": {
            "tags": []
          },
          "execution_count": 53
        }
      ]
    },
    {
      "cell_type": "markdown",
      "metadata": {
        "id": "wczVdxHIWFmO"
      },
      "source": [
        "Backpropagation with Graphs"
      ]
    },
    {
      "cell_type": "code",
      "metadata": {
        "id": "9sgsN91jWC11",
        "outputId": "a463ac08-0209-4b7d-d8fb-bb2ff1cca29a",
        "colab": {
          "base_uri": "https://localhost:8080/",
          "height": 34
        }
      },
      "source": [
        "score = gtn.viterbi_score(intersect)\n",
        "gtn.backward(score)\n",
        "\n",
        "# print gradients of arc weights \n",
        "print(g1.grad().weights_to_list()) "
      ],
      "execution_count": null,
      "outputs": [
        {
          "output_type": "stream",
          "text": [
            "[1.0, 0.0, 1.0, 0.0]\n"
          ],
          "name": "stdout"
        }
      ]
    }
  ]
}